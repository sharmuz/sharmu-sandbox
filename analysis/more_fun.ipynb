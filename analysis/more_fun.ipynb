{
 "cells": [
  {
   "cell_type": "code",
   "execution_count": 1,
   "metadata": {},
   "outputs": [],
   "source": [
    "import numpy as np\n",
    "import pandas as pd"
   ]
  },
  {
   "cell_type": "code",
   "execution_count": 2,
   "metadata": {},
   "outputs": [],
   "source": [
    "df = pd.DataFrame({\n",
    "    'club': ['MUFC', 'LFC' ,'AFC'],\n",
    "    'titles': [20, 19, 13],\n",
    "})"
   ]
  },
  {
   "cell_type": "code",
   "execution_count": 3,
   "metadata": {},
   "outputs": [
    {
     "name": "stdout",
     "output_type": "stream",
     "text": [
      "   club  titles\n",
      "0  MUFC      20\n",
      "1   LFC      19\n",
      "2   AFC      13\n"
     ]
    }
   ],
   "source": [
    "print(df)"
   ]
  },
  {
   "attachments": {},
   "cell_type": "markdown",
   "metadata": {},
   "source": [
    "# ffill and select"
   ]
  },
  {
   "cell_type": "code",
   "execution_count": null,
   "metadata": {},
   "outputs": [],
   "source": [
    "df = pd.DataFrame({\n",
    "    'data1': [88, np.nan, 517, np.nan, np.nan, np.nan],\n",
    "    'data2': [22, np.nan, np.nan, -33, np.nan, np.nan],\n",
    "    'data4': [1, 5, np.nan, np.nan, np.nan, 0],\n",
    "})"
   ]
  },
  {
   "cell_type": "code",
   "execution_count": null,
   "metadata": {},
   "outputs": [],
   "source": [
    "df"
   ]
  },
  {
   "cell_type": "code",
   "execution_count": null,
   "metadata": {},
   "outputs": [],
   "source": [
    "df['data4'] = df['data4'].ffill()"
   ]
  },
  {
   "cell_type": "code",
   "execution_count": null,
   "metadata": {},
   "outputs": [],
   "source": [
    "df.loc[df['data4'] != 5].ffill()"
   ]
  },
  {
   "cell_type": "code",
   "execution_count": null,
   "metadata": {},
   "outputs": [],
   "source": [
    "conditions = [\n",
    "    (df['p0'] == 'ON') & (df['p1'] == 'OFF'),\n",
    "    (df['p1'] == 'OFF') & (df['p2'] == 'OFF'),\n",
    "]\n",
    "choices = [\n",
    "    df1['value'] * df['rate'],\n",
    "    df2['value_total'],\n",
    "]\n",
    "new_df['projected_value'] = np.select(\n",
    "    conditions, choices, default=0,\n",
    ")"
   ]
  }
 ],
 "metadata": {
  "kernelspec": {
   "display_name": "ds-general",
   "language": "python",
   "name": "python3"
  },
  "language_info": {
   "codemirror_mode": {
    "name": "ipython",
    "version": 3
   },
   "file_extension": ".py",
   "mimetype": "text/x-python",
   "name": "python",
   "nbconvert_exporter": "python",
   "pygments_lexer": "ipython3",
   "version": "3.11.7"
  },
  "orig_nbformat": 4,
  "vscode": {
   "interpreter": {
    "hash": "22b32d34612799c25d78732292fe9ad59cbca9767e890750be73700fa3c04ffe"
   }
  }
 },
 "nbformat": 4,
 "nbformat_minor": 2
}
